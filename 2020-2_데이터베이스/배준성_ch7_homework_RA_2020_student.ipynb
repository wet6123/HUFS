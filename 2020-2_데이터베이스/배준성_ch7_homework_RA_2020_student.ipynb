{
  "nbformat": 4,
  "nbformat_minor": 0,
  "metadata": {
    "colab": {
      "name": "배준성 - ch7_homework_RA-2020-student.ipynb",
      "provenance": [],
      "collapsed_sections": []
    },
    "kernelspec": {
      "display_name": "Python 3",
      "language": "python",
      "name": "python3"
    },
    "language_info": {
      "codemirror_mode": {
        "name": "ipython",
        "version": 3
      },
      "file_extension": ".py",
      "mimetype": "text/x-python",
      "name": "python",
      "nbconvert_exporter": "python",
      "pygments_lexer": "ipython3",
      "version": "3.7.3"
    }
  },
  "cells": [
    {
      "cell_type": "markdown",
      "metadata": {
        "id": "cGbn68fuu5u8"
      },
      "source": [
        "# Homework 1. Relational Algebra"
      ]
    },
    {
      "cell_type": "markdown",
      "metadata": {
        "id": "4Ihx4MBopyle"
      },
      "source": [
        "1. Use Google Colabortory and do your homework.\n",
        "3. (In Google colaboratory) Before you submit your homework, restart kernel and run all. (Runtime-> restart and run all)\n",
        "4. Save (File->Save) the file\n",
        "5. Submit your homework (this file) in Google classroom\n",
        "6. **Don't forget to click \"제출\" button** (\"Submit\", \"완료로 표시\", 또는 \"제출\" 버턴을 누르지 않으면 제출된 것이 아님)\n",
        "7. No late homeworks will be accepted for any reason!"
      ]
    },
    {
      "cell_type": "markdown",
      "metadata": {
        "id": "jO_3a9j8pylf"
      },
      "source": [
        "To edit this cell, double click here\n",
        "```\n",
        "이름:배준성\n",
        "학번:201501487\n",
        "학과:전자공학과\n",
        "제출일:2020.10.17\n",
        "```"
      ]
    },
    {
      "cell_type": "markdown",
      "metadata": {
        "id": "bOvsj4eJpylg"
      },
      "source": [
        "## CompanyDB Schema\n",
        "\n",
        "### Note that attribute names are capitalized\n",
        "```\n",
        "E(Fname,Minit,Lname,Ssn,Bdate,Address,Sex,Salary,Superssn,Dno)\n",
        "D(Dname,Dnumber,Mgrssn,Mgrstartdate)\n",
        "DL(Dnumber,Dlocation)\n",
        "P(Pname,Pnumber,Plocation,Dnum)\n",
        "WO(Essn,Pno,Hours)\n",
        "DE(Essn,Dependent_name,Sex,Bdate,Relationship)\n",
        "```"
      ]
    },
    {
      "cell_type": "markdown",
      "metadata": {
        "id": "pUDDFn7eu5u9"
      },
      "source": [
        "## First, run the following cell before you do your homework"
      ]
    },
    {
      "cell_type": "markdown",
      "metadata": {
        "id": "P1PmB-Q2u5u9"
      },
      "source": [
        "## DB setup"
      ]
    },
    {
      "cell_type": "code",
      "metadata": {
        "id": "9LZeWDA7u5u-"
      },
      "source": [
        "EMPLOYEE_csv = 'Fname,Minit,Lname,Ssn,Bdate,Address,Sex,Salary,Superssn,Dno\\r\\nJohn,B,Smith,123456789,1965-01-09,731-Fondren-Houston-TX,M,30000.00,333445555,5\\r\\nFranklin,T,Wong,333445555,1955-12-08,638-Voss-Houston-TX,M,40000.00,888665555,5\\r\\nJoyce,A,English,453453453,1972-07-31,5631-Rice-Houston-TX,F,25000.00,333445555,5\\r\\nRamesh,K,Narayan,666884444,1962-09-15,975-Fire-Oak-Humble-TX,M,38000.00,333445555,5\\r\\nJames,E,Borg,888665555,1937-11-10,450-Stone-Houston-TX,M,55000.00,,1\\r\\nJennifer,S,Wallace,987654321,1941-06-20,291-Berry-Bellaire-TX,F,43000.00,888665555,4\\r\\nAhmad,V,Jabbar,987987987,1969-03-29,980-Dallas-Houston-TX,M,25000.00,987654321,4\\r\\nAlicia,J,Zelaya,999887777,1968-01-19,3321-Castle-Spring-TX,F,25000.00,987654321,4\\r\\n'\n",
        "DEPARTMENT_csv = 'Dname,Dnumber,Mgrssn,Mgrstartdate\\r\\nHeadquarters,1,888665555,1981-06-19\\r\\nAdministration,4,987654321,1995-01-01\\r\\nResearch,5,333445555,1988-05-22\\r\\n'\n",
        "DEPT_LOCATIONS_csv = 'Dnumber,Dlocation\\r\\n1,Houston\\r\\n4,Stafford\\r\\n5,Bellaire\\r\\n5,Houston\\r\\n5,Sugarland\\r\\n'\n",
        "PROJECT_csv = 'Pname,Pnumber,Plocation,Dnum\\r\\nProductX,1,Bellaire,5\\r\\nProductY,2,Sugarland,5\\r\\nProductZ,3,Houston,5\\r\\nComputerization,10,Stafford,4\\r\\nReorganization,20,Houston,1\\r\\nNewbenefits,30,Stafford,4\\r\\n'\n",
        "WORKS_ON_csv = 'Essn,Pno,Hours\\r\\n123456789,1,32.5\\r\\n123456789,2,7.5\\r\\n333445555,2,10.0\\r\\n333445555,3,10.0\\r\\n333445555,10,10.0\\r\\n333445555,20,10.0\\r\\n453453453,1,20.0\\r\\n453453453,2,20.0\\r\\n666884444,3,40.0\\r\\n888665555,20,\\r\\n987654321,20,15.0\\r\\n987654321,30,20.0\\r\\n987987987,10,35.0\\r\\n987987987,30,5.0\\r\\n999887777,10,10.0\\r\\n999887777,30,30.0\\r\\n'\n",
        "DEPENDENT_csv = 'Essn,Dependent_name,Sex,Bdate,Relationship\\r\\n123456789,Alice,F,1988-12-30,Daughter\\r\\n123456789,Elizabeth,F,1967-05-05,Spouse\\r\\n123456789,Michael,M,1988-01-04,Son\\r\\n333445555,Alice,F,1986-04-05,Daughter\\r\\n333445555,Joy,F,1958-05-03,Spouse\\r\\n333445555,Theodore,M,1983-10-25,Son\\r\\n987654321,Abner,M,1942-02-28,Spouse\\r\\n'\n",
        "\n",
        "# import packages\n",
        "\n",
        "import pandas as pd\n",
        "from io import StringIO \n",
        "import re\n",
        "\n",
        "# Tables\n",
        "EMPLOYEE = pd.read_csv(StringIO(EMPLOYEE_csv))\n",
        "DEPARTMENT = pd.read_csv(StringIO(DEPARTMENT_csv))\n",
        "DEPT_LOCATIONS = pd.read_csv(StringIO(DEPT_LOCATIONS_csv))\n",
        "PROJECT = pd.read_csv(StringIO(PROJECT_csv))\n",
        "WORKS_ON = pd.read_csv(StringIO(WORKS_ON_csv))\n",
        "DEPENDENT = pd.read_csv(StringIO(DEPENDENT_csv))\n",
        "\n",
        "# short_names for Tables\n",
        "E = EMPLOYEE\n",
        "D = DEPARTMENT\n",
        "DL = DEPT_LOCATIONS\n",
        "P = PROJECT\n",
        "WO = WORKS_ON\n",
        "DE = DEPENDENT\n",
        "\n",
        "def rename(R, C):\n",
        "    return R.rename(columns=C)\n",
        "\n",
        "def select(R, C):\n",
        "    # The following substitution may NOT work \n",
        "    # when column name is equal to a string value in C\n",
        "    tokens = re.split(r'(\\W+)', C)\n",
        "    new_tokens = [\"R.\" + token  if token in R.columns else token \\\n",
        "                  for token in tokens] \n",
        "    selected = eval(''.join(new_tokens))\n",
        "    return R[selected].reset_index(drop=True)\n",
        "\n",
        "def project(R, C):\n",
        "    return R[C].drop_duplicates().reset_index(drop=True)\n",
        "\n",
        "def union(R, S):\n",
        "    S.columns = R.columns\n",
        "    T = pd.concat([R, S], ignore_index=True)\n",
        "    T = T.drop_duplicates().reset_index(drop=True)\n",
        "    return T\n",
        "\n",
        "def intersect(R, S):\n",
        "    S.columns = R.columns\n",
        "    return R.merge(S).reset_index(drop=True)\n",
        "\n",
        "def minus(R, S):\n",
        "    S.columns = R.columns\n",
        "    return pd.concat([R, S, S]).drop_duplicates(keep=False).reset_index(drop=True)\n",
        "\n",
        "def product(R, S):\n",
        "    \"\"\"Determine Cartesian product of two data frames.\"\"\"\n",
        "    key = 'key'\n",
        "    while key in R.columns or key in S.columns:\n",
        "        key = '_' + key\n",
        "    key_d = {key: 0}\n",
        "    return pd.merge(R.assign(**key_d), S.assign(**key_d), on=key)\\\n",
        "           .drop(key, axis=1).reset_index(drop=True)\n",
        "\n",
        "def natural_join(R, S):\n",
        "    return pd.merge(R, S).reset_index(drop=True)\n",
        "\n",
        "def natural_join2(R, S, keys_R, keys_S):\n",
        "    return pd.merge(R, S, left_on=keys_R, right_on=keys_S)\\\n",
        "           .drop(keys_S, axis=1).reset_index(drop=True)\n",
        "\n",
        "def division(R, S):\n",
        "    Z = set(R.columns)\n",
        "    X = set(S.columns)\n",
        "    assert X <= Z\n",
        "    Y = pd.Index(Z - X)\n",
        "    T1 = project(R, Y)\n",
        "    T2 = project(minus(product(T1, S), R), Y)\n",
        "    T = minus(T1, T2)\n",
        "    return T.reset_index(drop=True)"
      ],
      "execution_count": null,
      "outputs": []
    },
    {
      "cell_type": "markdown",
      "metadata": {
        "id": "1UsaXKpVpyln"
      },
      "source": [
        "## <font color='red'>Query Statement에 나타나지 않은 상수(값)을 사용하면 무조건 0점 처리됨. 예를 들어, Query 1에서 \"Research\"라는 상수값만 나타나야 함</font>\n",
        "\n",
        "## 각 질의당 10점"
      ]
    },
    {
      "cell_type": "markdown",
      "metadata": {
        "id": "VaYropvspyln"
      },
      "source": [
        "### Query 1: Retrieve the last name, first name, and address of employees who work for the \"Research\" department. (Use cartesian product. Do NOT use join)"
      ]
    },
    {
      "cell_type": "code",
      "metadata": {
        "id": "4LmFOBzHpylp",
        "colab": {
          "base_uri": "https://localhost:8080/",
          "height": 173
        },
        "outputId": "ae8df397-5a07-4d42-c460-45b420576f86"
      },
      "source": [
        "# YOUR CODE HERE      10\n",
        "project(select(product(E,select(D,\"Dname == 'Research'\")),\"Dno == Dnumber\"),['Lname','Fname','Address'])\n"
      ],
      "execution_count": null,
      "outputs": [
        {
          "output_type": "execute_result",
          "data": {
            "text/html": [
              "<div>\n",
              "<style scoped>\n",
              "    .dataframe tbody tr th:only-of-type {\n",
              "        vertical-align: middle;\n",
              "    }\n",
              "\n",
              "    .dataframe tbody tr th {\n",
              "        vertical-align: top;\n",
              "    }\n",
              "\n",
              "    .dataframe thead th {\n",
              "        text-align: right;\n",
              "    }\n",
              "</style>\n",
              "<table border=\"1\" class=\"dataframe\">\n",
              "  <thead>\n",
              "    <tr style=\"text-align: right;\">\n",
              "      <th></th>\n",
              "      <th>Lname</th>\n",
              "      <th>Fname</th>\n",
              "      <th>Address</th>\n",
              "    </tr>\n",
              "  </thead>\n",
              "  <tbody>\n",
              "    <tr>\n",
              "      <th>0</th>\n",
              "      <td>Smith</td>\n",
              "      <td>John</td>\n",
              "      <td>731-Fondren-Houston-TX</td>\n",
              "    </tr>\n",
              "    <tr>\n",
              "      <th>1</th>\n",
              "      <td>Wong</td>\n",
              "      <td>Franklin</td>\n",
              "      <td>638-Voss-Houston-TX</td>\n",
              "    </tr>\n",
              "    <tr>\n",
              "      <th>2</th>\n",
              "      <td>English</td>\n",
              "      <td>Joyce</td>\n",
              "      <td>5631-Rice-Houston-TX</td>\n",
              "    </tr>\n",
              "    <tr>\n",
              "      <th>3</th>\n",
              "      <td>Narayan</td>\n",
              "      <td>Ramesh</td>\n",
              "      <td>975-Fire-Oak-Humble-TX</td>\n",
              "    </tr>\n",
              "  </tbody>\n",
              "</table>\n",
              "</div>"
            ],
            "text/plain": [
              "     Lname     Fname                 Address\n",
              "0    Smith      John  731-Fondren-Houston-TX\n",
              "1     Wong  Franklin     638-Voss-Houston-TX\n",
              "2  English     Joyce    5631-Rice-Houston-TX\n",
              "3  Narayan    Ramesh  975-Fire-Oak-Humble-TX"
            ]
          },
          "metadata": {
            "tags": []
          },
          "execution_count": 2
        }
      ]
    },
    {
      "cell_type": "markdown",
      "metadata": {
        "id": "EJLDFdhApylt"
      },
      "source": [
        "### Query 2: Retrieve the last name, first name, and address of employees who work for the \"Research\" department. (Do NOT use cartesian product. Use natural join)"
      ]
    },
    {
      "cell_type": "code",
      "metadata": {
        "id": "ylSGoBdxpylu",
        "colab": {
          "base_uri": "https://localhost:8080/",
          "height": 173
        },
        "outputId": "e457f72e-d617-4e3b-9c70-c67a4e282612"
      },
      "source": [
        "# YOUR CODE HERE      10\n",
        "rename(D, {'Dnumber':'Dno'})\n",
        "project(natural_join2(E,select(D,\"Dname=='Research'\"),['Dno'],['Dnumber']),['Lname','Fname','Address'])"
      ],
      "execution_count": null,
      "outputs": [
        {
          "output_type": "execute_result",
          "data": {
            "text/html": [
              "<div>\n",
              "<style scoped>\n",
              "    .dataframe tbody tr th:only-of-type {\n",
              "        vertical-align: middle;\n",
              "    }\n",
              "\n",
              "    .dataframe tbody tr th {\n",
              "        vertical-align: top;\n",
              "    }\n",
              "\n",
              "    .dataframe thead th {\n",
              "        text-align: right;\n",
              "    }\n",
              "</style>\n",
              "<table border=\"1\" class=\"dataframe\">\n",
              "  <thead>\n",
              "    <tr style=\"text-align: right;\">\n",
              "      <th></th>\n",
              "      <th>Lname</th>\n",
              "      <th>Fname</th>\n",
              "      <th>Address</th>\n",
              "    </tr>\n",
              "  </thead>\n",
              "  <tbody>\n",
              "    <tr>\n",
              "      <th>0</th>\n",
              "      <td>Smith</td>\n",
              "      <td>John</td>\n",
              "      <td>731-Fondren-Houston-TX</td>\n",
              "    </tr>\n",
              "    <tr>\n",
              "      <th>1</th>\n",
              "      <td>Wong</td>\n",
              "      <td>Franklin</td>\n",
              "      <td>638-Voss-Houston-TX</td>\n",
              "    </tr>\n",
              "    <tr>\n",
              "      <th>2</th>\n",
              "      <td>English</td>\n",
              "      <td>Joyce</td>\n",
              "      <td>5631-Rice-Houston-TX</td>\n",
              "    </tr>\n",
              "    <tr>\n",
              "      <th>3</th>\n",
              "      <td>Narayan</td>\n",
              "      <td>Ramesh</td>\n",
              "      <td>975-Fire-Oak-Humble-TX</td>\n",
              "    </tr>\n",
              "  </tbody>\n",
              "</table>\n",
              "</div>"
            ],
            "text/plain": [
              "     Lname     Fname                 Address\n",
              "0    Smith      John  731-Fondren-Houston-TX\n",
              "1     Wong  Franklin     638-Voss-Houston-TX\n",
              "2  English     Joyce    5631-Rice-Houston-TX\n",
              "3  Narayan    Ramesh  975-Fire-Oak-Humble-TX"
            ]
          },
          "metadata": {
            "tags": []
          },
          "execution_count": 3
        }
      ]
    },
    {
      "cell_type": "markdown",
      "metadata": {
        "id": "w6GZwfFjpylx"
      },
      "source": [
        "### Query 3: For every project located in \"Stafford\", list the project name, the controlling department name, and the department manager's last name, first name. (Use natural_join2, No cartesian products and natural joins are allowed)"
      ]
    },
    {
      "cell_type": "code",
      "metadata": {
        "id": "Aswz_YBWpyly",
        "colab": {
          "base_uri": "https://localhost:8080/",
          "height": 111
        },
        "outputId": "cbdeb776-0c73-4c7d-e700-533c6d052bd7"
      },
      "source": [
        "# YOUR CODE HERE      10\n",
        "project(natural_join2(E, natural_join2(D, select(P,\"Plocation == 'Stafford'\"), ['Dnumber'],['Dnum']),['Ssn'],['Mgrssn']),['Pname','Dname','Lname','Fname'])"
      ],
      "execution_count": null,
      "outputs": [
        {
          "output_type": "execute_result",
          "data": {
            "text/html": [
              "<div>\n",
              "<style scoped>\n",
              "    .dataframe tbody tr th:only-of-type {\n",
              "        vertical-align: middle;\n",
              "    }\n",
              "\n",
              "    .dataframe tbody tr th {\n",
              "        vertical-align: top;\n",
              "    }\n",
              "\n",
              "    .dataframe thead th {\n",
              "        text-align: right;\n",
              "    }\n",
              "</style>\n",
              "<table border=\"1\" class=\"dataframe\">\n",
              "  <thead>\n",
              "    <tr style=\"text-align: right;\">\n",
              "      <th></th>\n",
              "      <th>Pname</th>\n",
              "      <th>Dname</th>\n",
              "      <th>Lname</th>\n",
              "      <th>Fname</th>\n",
              "    </tr>\n",
              "  </thead>\n",
              "  <tbody>\n",
              "    <tr>\n",
              "      <th>0</th>\n",
              "      <td>Computerization</td>\n",
              "      <td>Administration</td>\n",
              "      <td>Wallace</td>\n",
              "      <td>Jennifer</td>\n",
              "    </tr>\n",
              "    <tr>\n",
              "      <th>1</th>\n",
              "      <td>Newbenefits</td>\n",
              "      <td>Administration</td>\n",
              "      <td>Wallace</td>\n",
              "      <td>Jennifer</td>\n",
              "    </tr>\n",
              "  </tbody>\n",
              "</table>\n",
              "</div>"
            ],
            "text/plain": [
              "             Pname           Dname    Lname     Fname\n",
              "0  Computerization  Administration  Wallace  Jennifer\n",
              "1      Newbenefits  Administration  Wallace  Jennifer"
            ]
          },
          "metadata": {
            "tags": []
          },
          "execution_count": 4
        }
      ]
    },
    {
      "cell_type": "markdown",
      "metadata": {
        "id": "Zwgj_00bpyl1"
      },
      "source": [
        "### Query 4: Find the last name, first name of employees who work on all the projects controlled by department number 4."
      ]
    },
    {
      "cell_type": "code",
      "metadata": {
        "id": "7ykbYRB5pyl2",
        "colab": {
          "base_uri": "https://localhost:8080/",
          "height": 173
        },
        "outputId": "dcba68a6-8ba8-4f23-aac5-9743f9236464"
      },
      "source": [
        "# YOUR CODE HERE      0\n",
        "project(natural_join2(E, project(natural_join2(WO, select(P, \"Dnum == 4\"),['Pno'],['Pnumber']),['Essn']),['Ssn'],['Essn']), ['Lname', 'Fname'])"
      ],
      "execution_count": null,
      "outputs": [
        {
          "output_type": "execute_result",
          "data": {
            "text/html": [
              "<div>\n",
              "<style scoped>\n",
              "    .dataframe tbody tr th:only-of-type {\n",
              "        vertical-align: middle;\n",
              "    }\n",
              "\n",
              "    .dataframe tbody tr th {\n",
              "        vertical-align: top;\n",
              "    }\n",
              "\n",
              "    .dataframe thead th {\n",
              "        text-align: right;\n",
              "    }\n",
              "</style>\n",
              "<table border=\"1\" class=\"dataframe\">\n",
              "  <thead>\n",
              "    <tr style=\"text-align: right;\">\n",
              "      <th></th>\n",
              "      <th>Lname</th>\n",
              "      <th>Fname</th>\n",
              "    </tr>\n",
              "  </thead>\n",
              "  <tbody>\n",
              "    <tr>\n",
              "      <th>0</th>\n",
              "      <td>Wong</td>\n",
              "      <td>Franklin</td>\n",
              "    </tr>\n",
              "    <tr>\n",
              "      <th>1</th>\n",
              "      <td>Wallace</td>\n",
              "      <td>Jennifer</td>\n",
              "    </tr>\n",
              "    <tr>\n",
              "      <th>2</th>\n",
              "      <td>Jabbar</td>\n",
              "      <td>Ahmad</td>\n",
              "    </tr>\n",
              "    <tr>\n",
              "      <th>3</th>\n",
              "      <td>Zelaya</td>\n",
              "      <td>Alicia</td>\n",
              "    </tr>\n",
              "  </tbody>\n",
              "</table>\n",
              "</div>"
            ],
            "text/plain": [
              "     Lname     Fname\n",
              "0     Wong  Franklin\n",
              "1  Wallace  Jennifer\n",
              "2   Jabbar     Ahmad\n",
              "3   Zelaya    Alicia"
            ]
          },
          "metadata": {
            "tags": []
          },
          "execution_count": 5
        }
      ]
    },
    {
      "cell_type": "markdown",
      "metadata": {
        "id": "tYe-5nekpyl8"
      },
      "source": [
        "### Query 5: Make a list of project names for projects that involve an employee whose last name is \"Wallace\", either as a worker or as a manager of the department that controls the project."
      ]
    },
    {
      "cell_type": "code",
      "metadata": {
        "id": "H30uRPUNpyl9",
        "colab": {
          "base_uri": "https://localhost:8080/",
          "height": 111
        },
        "outputId": "923f6686-ddce-4aa0-df15-854cc1c3190e"
      },
      "source": [
        "# YOUR CODE HERE      0\n",
        "project(natural_join2(P,select(E, \"Lname == 'Wallace'\"),['Dnum'],['Dno']),['Pname'])"
      ],
      "execution_count": null,
      "outputs": [
        {
          "output_type": "execute_result",
          "data": {
            "text/html": [
              "<div>\n",
              "<style scoped>\n",
              "    .dataframe tbody tr th:only-of-type {\n",
              "        vertical-align: middle;\n",
              "    }\n",
              "\n",
              "    .dataframe tbody tr th {\n",
              "        vertical-align: top;\n",
              "    }\n",
              "\n",
              "    .dataframe thead th {\n",
              "        text-align: right;\n",
              "    }\n",
              "</style>\n",
              "<table border=\"1\" class=\"dataframe\">\n",
              "  <thead>\n",
              "    <tr style=\"text-align: right;\">\n",
              "      <th></th>\n",
              "      <th>Pname</th>\n",
              "    </tr>\n",
              "  </thead>\n",
              "  <tbody>\n",
              "    <tr>\n",
              "      <th>0</th>\n",
              "      <td>Computerization</td>\n",
              "    </tr>\n",
              "    <tr>\n",
              "      <th>1</th>\n",
              "      <td>Newbenefits</td>\n",
              "    </tr>\n",
              "  </tbody>\n",
              "</table>\n",
              "</div>"
            ],
            "text/plain": [
              "             Pname\n",
              "0  Computerization\n",
              "1      Newbenefits"
            ]
          },
          "metadata": {
            "tags": []
          },
          "execution_count": 6
        }
      ]
    },
    {
      "cell_type": "markdown",
      "metadata": {
        "id": "yjE2OFEZpymA"
      },
      "source": [
        "### Query 6: List the last name, first name of all employees with two or more dependents. (Do NOT use aggregate operator)"
      ]
    },
    {
      "cell_type": "code",
      "metadata": {
        "id": "up850P2spymB",
        "colab": {
          "base_uri": "https://localhost:8080/",
          "height": 111
        },
        "outputId": "0146252a-cce2-4aba-c306-0e3222162c1b"
      },
      "source": [
        "# YOUR CODE HERE        10\n",
        "DD = select(product(DE, DE),\"(Essn_x == Essn_y) & (Dependent_name_x != Dependent_name_y)\")\n",
        "project(natural_join2(E, DD, ['Ssn'],['Essn_x']),['Lname','Fname'])"
      ],
      "execution_count": null,
      "outputs": [
        {
          "output_type": "execute_result",
          "data": {
            "text/html": [
              "<div>\n",
              "<style scoped>\n",
              "    .dataframe tbody tr th:only-of-type {\n",
              "        vertical-align: middle;\n",
              "    }\n",
              "\n",
              "    .dataframe tbody tr th {\n",
              "        vertical-align: top;\n",
              "    }\n",
              "\n",
              "    .dataframe thead th {\n",
              "        text-align: right;\n",
              "    }\n",
              "</style>\n",
              "<table border=\"1\" class=\"dataframe\">\n",
              "  <thead>\n",
              "    <tr style=\"text-align: right;\">\n",
              "      <th></th>\n",
              "      <th>Lname</th>\n",
              "      <th>Fname</th>\n",
              "    </tr>\n",
              "  </thead>\n",
              "  <tbody>\n",
              "    <tr>\n",
              "      <th>0</th>\n",
              "      <td>Smith</td>\n",
              "      <td>John</td>\n",
              "    </tr>\n",
              "    <tr>\n",
              "      <th>1</th>\n",
              "      <td>Wong</td>\n",
              "      <td>Franklin</td>\n",
              "    </tr>\n",
              "  </tbody>\n",
              "</table>\n",
              "</div>"
            ],
            "text/plain": [
              "   Lname     Fname\n",
              "0  Smith      John\n",
              "1   Wong  Franklin"
            ]
          },
          "metadata": {
            "tags": []
          },
          "execution_count": 7
        }
      ]
    },
    {
      "cell_type": "markdown",
      "metadata": {
        "id": "sqtQS9AGpymE"
      },
      "source": [
        "### Query 7: Retrieve the last name, first name of employees who have no dependents."
      ]
    },
    {
      "cell_type": "code",
      "metadata": {
        "id": "m2WmxoVPpymF",
        "colab": {
          "base_uri": "https://localhost:8080/",
          "height": 204
        },
        "outputId": "6592444e-e17f-463a-928e-853244892c1e"
      },
      "source": [
        "# YOUR CODE HERE      10\n",
        "ES = select(product(E, DE), \"Ssn != Essn\")\n",
        "NoDE = division(project(ES, ['Ssn','Essn']), project(DE,['Essn']))\n",
        "project(natural_join(E, NoDE), ['Lname','Fname'])"
      ],
      "execution_count": null,
      "outputs": [
        {
          "output_type": "execute_result",
          "data": {
            "text/html": [
              "<div>\n",
              "<style scoped>\n",
              "    .dataframe tbody tr th:only-of-type {\n",
              "        vertical-align: middle;\n",
              "    }\n",
              "\n",
              "    .dataframe tbody tr th {\n",
              "        vertical-align: top;\n",
              "    }\n",
              "\n",
              "    .dataframe thead th {\n",
              "        text-align: right;\n",
              "    }\n",
              "</style>\n",
              "<table border=\"1\" class=\"dataframe\">\n",
              "  <thead>\n",
              "    <tr style=\"text-align: right;\">\n",
              "      <th></th>\n",
              "      <th>Lname</th>\n",
              "      <th>Fname</th>\n",
              "    </tr>\n",
              "  </thead>\n",
              "  <tbody>\n",
              "    <tr>\n",
              "      <th>0</th>\n",
              "      <td>English</td>\n",
              "      <td>Joyce</td>\n",
              "    </tr>\n",
              "    <tr>\n",
              "      <th>1</th>\n",
              "      <td>Narayan</td>\n",
              "      <td>Ramesh</td>\n",
              "    </tr>\n",
              "    <tr>\n",
              "      <th>2</th>\n",
              "      <td>Borg</td>\n",
              "      <td>James</td>\n",
              "    </tr>\n",
              "    <tr>\n",
              "      <th>3</th>\n",
              "      <td>Jabbar</td>\n",
              "      <td>Ahmad</td>\n",
              "    </tr>\n",
              "    <tr>\n",
              "      <th>4</th>\n",
              "      <td>Zelaya</td>\n",
              "      <td>Alicia</td>\n",
              "    </tr>\n",
              "  </tbody>\n",
              "</table>\n",
              "</div>"
            ],
            "text/plain": [
              "     Lname   Fname\n",
              "0  English   Joyce\n",
              "1  Narayan  Ramesh\n",
              "2     Borg   James\n",
              "3   Jabbar   Ahmad\n",
              "4   Zelaya  Alicia"
            ]
          },
          "metadata": {
            "tags": []
          },
          "execution_count": 8
        }
      ]
    },
    {
      "cell_type": "markdown",
      "metadata": {
        "id": "K4uN_bdhpymI"
      },
      "source": [
        "### Query 8: List the last name, first name of managers who have at least one dependent."
      ]
    },
    {
      "cell_type": "code",
      "metadata": {
        "id": "-nUvnZPppymJ",
        "colab": {
          "base_uri": "https://localhost:8080/",
          "height": 111
        },
        "outputId": "157a9c29-408a-4043-f344-793ae631f21d"
      },
      "source": [
        "# YOUR CODE HERE      10\n",
        "MGR = natural_join2(D, project(DE,['Essn']),['Mgrssn'],['Essn'])\n",
        "project(natural_join2(E, MGR, ['Ssn'], ['Mgrssn']),['Lname','Fname'])"
      ],
      "execution_count": null,
      "outputs": [
        {
          "output_type": "execute_result",
          "data": {
            "text/html": [
              "<div>\n",
              "<style scoped>\n",
              "    .dataframe tbody tr th:only-of-type {\n",
              "        vertical-align: middle;\n",
              "    }\n",
              "\n",
              "    .dataframe tbody tr th {\n",
              "        vertical-align: top;\n",
              "    }\n",
              "\n",
              "    .dataframe thead th {\n",
              "        text-align: right;\n",
              "    }\n",
              "</style>\n",
              "<table border=\"1\" class=\"dataframe\">\n",
              "  <thead>\n",
              "    <tr style=\"text-align: right;\">\n",
              "      <th></th>\n",
              "      <th>Lname</th>\n",
              "      <th>Fname</th>\n",
              "    </tr>\n",
              "  </thead>\n",
              "  <tbody>\n",
              "    <tr>\n",
              "      <th>0</th>\n",
              "      <td>Wong</td>\n",
              "      <td>Franklin</td>\n",
              "    </tr>\n",
              "    <tr>\n",
              "      <th>1</th>\n",
              "      <td>Wallace</td>\n",
              "      <td>Jennifer</td>\n",
              "    </tr>\n",
              "  </tbody>\n",
              "</table>\n",
              "</div>"
            ],
            "text/plain": [
              "     Lname     Fname\n",
              "0     Wong  Franklin\n",
              "1  Wallace  Jennifer"
            ]
          },
          "metadata": {
            "tags": []
          },
          "execution_count": 9
        }
      ]
    },
    {
      "cell_type": "markdown",
      "metadata": {
        "id": "uQUlXUGtpymM"
      },
      "source": [
        "### Query 9: Retrieve the last name, first name of all employees in department 5 who work more than 10 hours per week on the ProductX project."
      ]
    },
    {
      "cell_type": "code",
      "metadata": {
        "id": "DEC6TH-cpymN",
        "colab": {
          "base_uri": "https://localhost:8080/",
          "height": 111
        },
        "outputId": "8254ab96-7c9d-4705-d5bf-efefbb88f794"
      },
      "source": [
        "# YOUR CODE HERE      10\n",
        "PX = select(P, \"Pname == 'ProductX'\")\n",
        "PX_E = natural_join2(PX, select(WO,\"Hours >= 10\"), ['Pnumber'],['Pno'])\n",
        "project(select(natural_join2(PX_E, E, ['Essn'],['Ssn']), \"Dno == 5\"),['Lname','Fname'])"
      ],
      "execution_count": null,
      "outputs": [
        {
          "output_type": "execute_result",
          "data": {
            "text/html": [
              "<div>\n",
              "<style scoped>\n",
              "    .dataframe tbody tr th:only-of-type {\n",
              "        vertical-align: middle;\n",
              "    }\n",
              "\n",
              "    .dataframe tbody tr th {\n",
              "        vertical-align: top;\n",
              "    }\n",
              "\n",
              "    .dataframe thead th {\n",
              "        text-align: right;\n",
              "    }\n",
              "</style>\n",
              "<table border=\"1\" class=\"dataframe\">\n",
              "  <thead>\n",
              "    <tr style=\"text-align: right;\">\n",
              "      <th></th>\n",
              "      <th>Lname</th>\n",
              "      <th>Fname</th>\n",
              "    </tr>\n",
              "  </thead>\n",
              "  <tbody>\n",
              "    <tr>\n",
              "      <th>0</th>\n",
              "      <td>Smith</td>\n",
              "      <td>John</td>\n",
              "    </tr>\n",
              "    <tr>\n",
              "      <th>1</th>\n",
              "      <td>English</td>\n",
              "      <td>Joyce</td>\n",
              "    </tr>\n",
              "  </tbody>\n",
              "</table>\n",
              "</div>"
            ],
            "text/plain": [
              "     Lname  Fname\n",
              "0    Smith   John\n",
              "1  English  Joyce"
            ]
          },
          "metadata": {
            "tags": []
          },
          "execution_count": 10
        }
      ]
    },
    {
      "cell_type": "markdown",
      "metadata": {
        "id": "h8EP1qndpymS"
      },
      "source": [
        "### Query 10: Retrieve the last name, first name of all employees who is supervised by James Borg"
      ]
    },
    {
      "cell_type": "code",
      "metadata": {
        "id": "Qs3-nbUZpymT",
        "colab": {
          "base_uri": "https://localhost:8080/",
          "height": 111
        },
        "outputId": "7a955084-547e-4df8-e282-e58e697ddcc4"
      },
      "source": [
        "# YOUR CODE HERE      10\n",
        "JB = rename(project(select(E,\"(Fname == 'James') & (Lname == 'Borg')\"), ['Ssn']), {'Ssn':'Ssnjb'})\n",
        "project(natural_join2(E, JB, ['Superssn'], ['Ssnjb']), ['Lname', 'Fname'])"
      ],
      "execution_count": null,
      "outputs": [
        {
          "output_type": "execute_result",
          "data": {
            "text/html": [
              "<div>\n",
              "<style scoped>\n",
              "    .dataframe tbody tr th:only-of-type {\n",
              "        vertical-align: middle;\n",
              "    }\n",
              "\n",
              "    .dataframe tbody tr th {\n",
              "        vertical-align: top;\n",
              "    }\n",
              "\n",
              "    .dataframe thead th {\n",
              "        text-align: right;\n",
              "    }\n",
              "</style>\n",
              "<table border=\"1\" class=\"dataframe\">\n",
              "  <thead>\n",
              "    <tr style=\"text-align: right;\">\n",
              "      <th></th>\n",
              "      <th>Lname</th>\n",
              "      <th>Fname</th>\n",
              "    </tr>\n",
              "  </thead>\n",
              "  <tbody>\n",
              "    <tr>\n",
              "      <th>0</th>\n",
              "      <td>Wong</td>\n",
              "      <td>Franklin</td>\n",
              "    </tr>\n",
              "    <tr>\n",
              "      <th>1</th>\n",
              "      <td>Wallace</td>\n",
              "      <td>Jennifer</td>\n",
              "    </tr>\n",
              "  </tbody>\n",
              "</table>\n",
              "</div>"
            ],
            "text/plain": [
              "     Lname     Fname\n",
              "0     Wong  Franklin\n",
              "1  Wallace  Jennifer"
            ]
          },
          "metadata": {
            "tags": []
          },
          "execution_count": 11
        }
      ]
    },
    {
      "cell_type": "markdown",
      "metadata": {
        "id": "VJtZZTulifuG"
      },
      "source": [
        ""
      ]
    }
  ]
}